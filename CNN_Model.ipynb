{
  "cells": [
    {
      "cell_type": "markdown",
      "metadata": {
        "id": "view-in-github",
        "colab_type": "text"
      },
      "source": [
        "<a href=\"https://colab.research.google.com/github/BatoolAyman/Deep_Learning/blob/main/CNN_Model.ipynb\" target=\"_parent\"><img src=\"https://colab.research.google.com/assets/colab-badge.svg\" alt=\"Open In Colab\"/></a>"
      ]
    },
    {
      "cell_type": "code",
      "execution_count": 1,
      "metadata": {
        "id": "1DYuYm28jN65"
      },
      "outputs": [],
      "source": [
        "import torch\n",
        "import torch.nn as nn\n",
        "import torch.optim as optim\n",
        "import torchvision\n",
        "import torchvision.transforms as transforms\n",
        "import matplotlib.pyplot as plt"
      ]
    },
    {
      "cell_type": "code",
      "execution_count": 2,
      "metadata": {
        "id": "wqTIF4FxrcMw"
      },
      "outputs": [],
      "source": [
        "# Device configuration\n",
        "device = torch.device(\"cuda\" if torch.cuda.is_available() else \"cpu\")"
      ]
    },
    {
      "cell_type": "code",
      "execution_count": 3,
      "metadata": {
        "id": "F2KDueTAloih"
      },
      "outputs": [],
      "source": [
        "# 1. Data Loading and Preprocessing\n",
        "# Define a transform to convert images to tensors.\n",
        "transform = transforms.Compose([\n",
        "    transforms.ToTensor(),\n",
        "    # Optionally, add normalization:\n",
        "    transforms.Normalize((0.5, 0.5, 0.5), (0.5, 0.5, 0.5))\n",
        "])"
      ]
    },
    {
      "cell_type": "code",
      "execution_count": 4,
      "metadata": {
        "colab": {
          "base_uri": "https://localhost:8080/"
        },
        "id": "ggMNA-iilr8V",
        "outputId": "e9eab04d-c087-41f6-87b2-1c270051f930"
      },
      "outputs": [
        {
          "output_type": "stream",
          "name": "stderr",
          "text": [
            "100%|██████████| 170M/170M [00:02<00:00, 76.4MB/s]\n"
          ]
        }
      ],
      "source": [
        "# Download and load the CIFAR-10 training and test datasets.\n",
        "trainset = torchvision.datasets.CIFAR10(root='./data', train=True,\n",
        "                                        download=True, transform=transform)\n",
        "\n",
        "testset = torchvision.datasets.CIFAR10(root='./data', train=False,\n",
        "                                       download=True, transform=transform)\n"
      ]
    },
    {
      "cell_type": "code",
      "execution_count": 5,
      "metadata": {
        "id": "GY9oOqfXl286"
      },
      "outputs": [],
      "source": [
        "trainloader = torch.utils.data.DataLoader(trainset, batch_size=32,\n",
        "                                          shuffle=True, num_workers=2)\n",
        "testloader = torch.utils.data.DataLoader(testset, batch_size=32,\n",
        "                                         shuffle=False, num_workers=2)"
      ]
    },
    {
      "cell_type": "code",
      "execution_count": 6,
      "metadata": {
        "id": "fXGxrEG2mDP8"
      },
      "outputs": [],
      "source": [
        "# 2. Define the CNN Model\n",
        "# Here we subclass nn.Module to define a simple CNN with two convolutional layers,\n",
        "# pooling, and two fully-connected layers.\n",
        "class SimpleCNN(nn.Module):\n",
        "    def __init__(self):\n",
        "        super().__init__()\n",
        "        # Convolutional layer 1: from 3 input channels to 32 output channels\n",
        "        self.conv1 = nn.Conv2d(in_channels=3, out_channels=32, kernel_size=3, padding=1)\n",
        "        # Activation (ReLU) and pooling follow\n",
        "        self.relu = nn.ReLU()\n",
        "        self.pool = nn.MaxPool2d(kernel_size=2, stride=2)\n",
        "        # Convolutional layer 2: from 32 channels to 64 channels\n",
        "        self.conv2 = nn.Conv2d(in_channels=32, out_channels=64, kernel_size=3, padding=1)\n",
        "        # A fully connected layer that takes the flattened features.\n",
        "        # For CIFAR-10 images of size 32x32, after two poolings (each halving dimensions),\n",
        "        # the spatial size becomes 8x8, and with 64 channels, that gives 64*8*8 = 4096 features.\n",
        "        self.fc1 = nn.Linear(64 * 8 * 8, 512)\n",
        "        self.fc2 = nn.Linear(512, 10)  # 10 output classes\n",
        "\n",
        "    def forward(self, x):\n",
        "        # First conv layer + activation + pooling.\n",
        "        x = self.pool(self.relu(self.conv1(x)))\n",
        "        # Second conv layer + activation + pooling.\n",
        "        x = self.pool(self.relu(self.conv2(x)))\n",
        "        # Flatten the feature map to a vector\n",
        "        x = x.view(x.size(0), -1)\n",
        "        # Fully connected layers with activation\n",
        "        x = self.relu(self.fc1(x))\n",
        "        # Final fully connected layer (logits output)\n",
        "        x = self.fc2(x)\n",
        "        return x"
      ]
    },
    {
      "cell_type": "code",
      "source": [
        "# Instantiate the model\n",
        "model = SimpleCNN().to(device)\n",
        "\n",
        "# Define the loss function and optimizer\n",
        "criterion = nn.CrossEntropyLoss()\n",
        "optimizer = optim.Adam(model.parameters(), lr=0.001)"
      ],
      "metadata": {
        "id": "ZbZUIjCRr6Fr"
      },
      "execution_count": 7,
      "outputs": []
    },
    {
      "cell_type": "code",
      "source": [
        "# Training loop\n",
        "num_epochs = 10\n",
        "\n",
        "for epoch in range(num_epochs):\n",
        "    model.train()  # Set the model to training mode\n",
        "    running_loss = 0.0\n",
        "\n",
        "    for i, data in enumerate(trainloader, 0):\n",
        "        # Get the inputs; data is a list of [inputs, labels]\n",
        "        inputs, labels = data\n",
        "        inputs, labels = inputs.to(device), labels.to(device)\n",
        "\n",
        "        # Zero the parameter gradients\n",
        "        optimizer.zero_grad()\n",
        "\n",
        "        # Forward pass\n",
        "        outputs = model(inputs)\n",
        "        loss = criterion(outputs, labels)\n",
        "\n",
        "        # Backward pass and optimize\n",
        "        loss.backward()\n",
        "        optimizer.step()\n",
        "\n",
        "        # Print statistics\n",
        "        running_loss += loss.item()\n",
        "        if i % 100 == 99:  # Print every 100 mini-batches\n",
        "            print(f'Epoch [{epoch + 1}/{num_epochs}], Step [{i + 1}/{len(trainloader)}], Loss: {running_loss / 100:.4f}')\n",
        "            running_loss = 0.0\n",
        "\n",
        "print('Finished Training')"
      ],
      "metadata": {
        "colab": {
          "base_uri": "https://localhost:8080/"
        },
        "id": "0Y_xFnzwr7M2",
        "outputId": "c426c5be-8154-4604-96b8-801c29f60a7c"
      },
      "execution_count": 8,
      "outputs": [
        {
          "output_type": "stream",
          "name": "stdout",
          "text": [
            "Epoch [1/10], Step [100/1563], Loss: 1.9160\n",
            "Epoch [1/10], Step [200/1563], Loss: 1.5747\n",
            "Epoch [1/10], Step [300/1563], Loss: 1.4594\n",
            "Epoch [1/10], Step [400/1563], Loss: 1.3773\n",
            "Epoch [1/10], Step [500/1563], Loss: 1.3367\n",
            "Epoch [1/10], Step [600/1563], Loss: 1.2598\n",
            "Epoch [1/10], Step [700/1563], Loss: 1.2656\n",
            "Epoch [1/10], Step [800/1563], Loss: 1.1860\n",
            "Epoch [1/10], Step [900/1563], Loss: 1.1602\n",
            "Epoch [1/10], Step [1000/1563], Loss: 1.1288\n",
            "Epoch [1/10], Step [1100/1563], Loss: 1.1082\n",
            "Epoch [1/10], Step [1200/1563], Loss: 1.0794\n",
            "Epoch [1/10], Step [1300/1563], Loss: 1.0416\n",
            "Epoch [1/10], Step [1400/1563], Loss: 1.0341\n",
            "Epoch [1/10], Step [1500/1563], Loss: 1.0490\n",
            "Epoch [2/10], Step [100/1563], Loss: 0.9295\n",
            "Epoch [2/10], Step [200/1563], Loss: 0.8950\n",
            "Epoch [2/10], Step [300/1563], Loss: 0.9086\n",
            "Epoch [2/10], Step [400/1563], Loss: 0.8747\n",
            "Epoch [2/10], Step [500/1563], Loss: 0.8465\n",
            "Epoch [2/10], Step [600/1563], Loss: 0.8526\n",
            "Epoch [2/10], Step [700/1563], Loss: 0.8535\n",
            "Epoch [2/10], Step [800/1563], Loss: 0.8569\n",
            "Epoch [2/10], Step [900/1563], Loss: 0.8465\n",
            "Epoch [2/10], Step [1000/1563], Loss: 0.8047\n",
            "Epoch [2/10], Step [1100/1563], Loss: 0.8445\n",
            "Epoch [2/10], Step [1200/1563], Loss: 0.8221\n",
            "Epoch [2/10], Step [1300/1563], Loss: 0.8540\n",
            "Epoch [2/10], Step [1400/1563], Loss: 0.7938\n",
            "Epoch [2/10], Step [1500/1563], Loss: 0.8218\n",
            "Epoch [3/10], Step [100/1563], Loss: 0.6431\n",
            "Epoch [3/10], Step [200/1563], Loss: 0.6221\n",
            "Epoch [3/10], Step [300/1563], Loss: 0.6309\n",
            "Epoch [3/10], Step [400/1563], Loss: 0.6241\n",
            "Epoch [3/10], Step [500/1563], Loss: 0.6566\n",
            "Epoch [3/10], Step [600/1563], Loss: 0.6361\n",
            "Epoch [3/10], Step [700/1563], Loss: 0.6342\n",
            "Epoch [3/10], Step [800/1563], Loss: 0.6316\n",
            "Epoch [3/10], Step [900/1563], Loss: 0.6705\n",
            "Epoch [3/10], Step [1000/1563], Loss: 0.6687\n",
            "Epoch [3/10], Step [1100/1563], Loss: 0.6315\n",
            "Epoch [3/10], Step [1200/1563], Loss: 0.6341\n",
            "Epoch [3/10], Step [1300/1563], Loss: 0.6550\n",
            "Epoch [3/10], Step [1400/1563], Loss: 0.6716\n",
            "Epoch [3/10], Step [1500/1563], Loss: 0.6652\n",
            "Epoch [4/10], Step [100/1563], Loss: 0.4511\n",
            "Epoch [4/10], Step [200/1563], Loss: 0.4049\n",
            "Epoch [4/10], Step [300/1563], Loss: 0.4470\n",
            "Epoch [4/10], Step [400/1563], Loss: 0.4441\n",
            "Epoch [4/10], Step [500/1563], Loss: 0.4376\n",
            "Epoch [4/10], Step [600/1563], Loss: 0.4711\n",
            "Epoch [4/10], Step [700/1563], Loss: 0.4577\n",
            "Epoch [4/10], Step [800/1563], Loss: 0.4826\n",
            "Epoch [4/10], Step [900/1563], Loss: 0.4507\n",
            "Epoch [4/10], Step [1000/1563], Loss: 0.4854\n",
            "Epoch [4/10], Step [1100/1563], Loss: 0.5031\n",
            "Epoch [4/10], Step [1200/1563], Loss: 0.4479\n",
            "Epoch [4/10], Step [1300/1563], Loss: 0.5023\n",
            "Epoch [4/10], Step [1400/1563], Loss: 0.4536\n",
            "Epoch [4/10], Step [1500/1563], Loss: 0.4799\n",
            "Epoch [5/10], Step [100/1563], Loss: 0.2758\n",
            "Epoch [5/10], Step [200/1563], Loss: 0.2507\n",
            "Epoch [5/10], Step [300/1563], Loss: 0.2737\n",
            "Epoch [5/10], Step [400/1563], Loss: 0.2331\n",
            "Epoch [5/10], Step [500/1563], Loss: 0.2992\n",
            "Epoch [5/10], Step [600/1563], Loss: 0.2826\n",
            "Epoch [5/10], Step [700/1563], Loss: 0.3045\n",
            "Epoch [5/10], Step [800/1563], Loss: 0.2783\n",
            "Epoch [5/10], Step [900/1563], Loss: 0.2929\n",
            "Epoch [5/10], Step [1000/1563], Loss: 0.3156\n",
            "Epoch [5/10], Step [1100/1563], Loss: 0.3201\n",
            "Epoch [5/10], Step [1200/1563], Loss: 0.3171\n",
            "Epoch [5/10], Step [1300/1563], Loss: 0.3445\n",
            "Epoch [5/10], Step [1400/1563], Loss: 0.3136\n",
            "Epoch [5/10], Step [1500/1563], Loss: 0.3233\n",
            "Epoch [6/10], Step [100/1563], Loss: 0.1441\n",
            "Epoch [6/10], Step [200/1563], Loss: 0.1253\n",
            "Epoch [6/10], Step [300/1563], Loss: 0.1363\n",
            "Epoch [6/10], Step [400/1563], Loss: 0.1435\n",
            "Epoch [6/10], Step [500/1563], Loss: 0.1666\n",
            "Epoch [6/10], Step [600/1563], Loss: 0.1644\n",
            "Epoch [6/10], Step [700/1563], Loss: 0.1857\n",
            "Epoch [6/10], Step [800/1563], Loss: 0.1866\n",
            "Epoch [6/10], Step [900/1563], Loss: 0.1606\n",
            "Epoch [6/10], Step [1000/1563], Loss: 0.1938\n",
            "Epoch [6/10], Step [1100/1563], Loss: 0.2071\n",
            "Epoch [6/10], Step [1200/1563], Loss: 0.1995\n",
            "Epoch [6/10], Step [1300/1563], Loss: 0.2106\n",
            "Epoch [6/10], Step [1400/1563], Loss: 0.2257\n",
            "Epoch [6/10], Step [1500/1563], Loss: 0.2213\n",
            "Epoch [7/10], Step [100/1563], Loss: 0.1013\n",
            "Epoch [7/10], Step [200/1563], Loss: 0.0874\n",
            "Epoch [7/10], Step [300/1563], Loss: 0.0892\n",
            "Epoch [7/10], Step [400/1563], Loss: 0.0971\n",
            "Epoch [7/10], Step [500/1563], Loss: 0.1124\n",
            "Epoch [7/10], Step [600/1563], Loss: 0.1167\n",
            "Epoch [7/10], Step [700/1563], Loss: 0.1318\n",
            "Epoch [7/10], Step [800/1563], Loss: 0.1137\n",
            "Epoch [7/10], Step [900/1563], Loss: 0.1245\n",
            "Epoch [7/10], Step [1000/1563], Loss: 0.1164\n",
            "Epoch [7/10], Step [1100/1563], Loss: 0.1364\n",
            "Epoch [7/10], Step [1200/1563], Loss: 0.1598\n",
            "Epoch [7/10], Step [1300/1563], Loss: 0.1481\n",
            "Epoch [7/10], Step [1400/1563], Loss: 0.1410\n",
            "Epoch [7/10], Step [1500/1563], Loss: 0.1729\n",
            "Epoch [8/10], Step [100/1563], Loss: 0.0925\n",
            "Epoch [8/10], Step [200/1563], Loss: 0.0677\n",
            "Epoch [8/10], Step [300/1563], Loss: 0.0618\n",
            "Epoch [8/10], Step [400/1563], Loss: 0.0734\n",
            "Epoch [8/10], Step [500/1563], Loss: 0.0585\n",
            "Epoch [8/10], Step [600/1563], Loss: 0.0786\n",
            "Epoch [8/10], Step [700/1563], Loss: 0.0896\n",
            "Epoch [8/10], Step [800/1563], Loss: 0.0778\n",
            "Epoch [8/10], Step [900/1563], Loss: 0.1027\n",
            "Epoch [8/10], Step [1000/1563], Loss: 0.1065\n",
            "Epoch [8/10], Step [1100/1563], Loss: 0.1031\n",
            "Epoch [8/10], Step [1200/1563], Loss: 0.1076\n",
            "Epoch [8/10], Step [1300/1563], Loss: 0.0930\n",
            "Epoch [8/10], Step [1400/1563], Loss: 0.1295\n",
            "Epoch [8/10], Step [1500/1563], Loss: 0.1108\n",
            "Epoch [9/10], Step [100/1563], Loss: 0.0500\n",
            "Epoch [9/10], Step [200/1563], Loss: 0.0438\n",
            "Epoch [9/10], Step [300/1563], Loss: 0.0543\n",
            "Epoch [9/10], Step [400/1563], Loss: 0.0607\n",
            "Epoch [9/10], Step [500/1563], Loss: 0.0748\n",
            "Epoch [9/10], Step [600/1563], Loss: 0.0799\n",
            "Epoch [9/10], Step [700/1563], Loss: 0.0587\n",
            "Epoch [9/10], Step [800/1563], Loss: 0.1059\n",
            "Epoch [9/10], Step [900/1563], Loss: 0.0802\n",
            "Epoch [9/10], Step [1000/1563], Loss: 0.0618\n",
            "Epoch [9/10], Step [1100/1563], Loss: 0.0844\n",
            "Epoch [9/10], Step [1200/1563], Loss: 0.0939\n",
            "Epoch [9/10], Step [1300/1563], Loss: 0.1028\n",
            "Epoch [9/10], Step [1400/1563], Loss: 0.1267\n",
            "Epoch [9/10], Step [1500/1563], Loss: 0.1001\n",
            "Epoch [10/10], Step [100/1563], Loss: 0.0566\n",
            "Epoch [10/10], Step [200/1563], Loss: 0.0469\n",
            "Epoch [10/10], Step [300/1563], Loss: 0.0448\n",
            "Epoch [10/10], Step [400/1563], Loss: 0.0795\n",
            "Epoch [10/10], Step [500/1563], Loss: 0.0491\n",
            "Epoch [10/10], Step [600/1563], Loss: 0.0772\n",
            "Epoch [10/10], Step [700/1563], Loss: 0.0843\n",
            "Epoch [10/10], Step [800/1563], Loss: 0.0645\n",
            "Epoch [10/10], Step [900/1563], Loss: 0.0730\n",
            "Epoch [10/10], Step [1000/1563], Loss: 0.0806\n",
            "Epoch [10/10], Step [1100/1563], Loss: 0.0831\n",
            "Epoch [10/10], Step [1200/1563], Loss: 0.1125\n",
            "Epoch [10/10], Step [1300/1563], Loss: 0.0830\n",
            "Epoch [10/10], Step [1400/1563], Loss: 0.1150\n",
            "Epoch [10/10], Step [1500/1563], Loss: 0.1059\n",
            "Finished Training\n"
          ]
        }
      ]
    },
    {
      "cell_type": "code",
      "source": [
        "# Evaluating the model\n",
        "model.eval()  # Set the model to evaluation mode\n",
        "correct = 0\n",
        "total = 0\n",
        "with torch.no_grad():  # Disable gradient calculation\n",
        "    for data in testloader:\n",
        "        images, labels = data\n",
        "        images, labels = images.to(device), labels.to(device)\n",
        "        outputs = model(images)\n",
        "        _, predicted = torch.max(outputs.data, 1)\n",
        "        total += labels.size(0)\n",
        "        correct += (predicted == labels).sum().item()\n",
        "\n",
        "print(f'Accuracy of the model on the test images: {100 * correct / total:.2f}%')"
      ],
      "metadata": {
        "colab": {
          "base_uri": "https://localhost:8080/"
        },
        "id": "I3GzAFuXr7P4",
        "outputId": "1bf3f3f0-b1c7-4bc0-ac0e-b0ad83240b5b"
      },
      "execution_count": 9,
      "outputs": [
        {
          "output_type": "stream",
          "name": "stdout",
          "text": [
            "Accuracy of the model on the test images: 71.03%\n"
          ]
        }
      ]
    },
    {
      "cell_type": "code",
      "source": [],
      "metadata": {
        "id": "sCdbZlvGr7Sg"
      },
      "execution_count": null,
      "outputs": []
    },
    {
      "cell_type": "code",
      "source": [],
      "metadata": {
        "id": "HuqTwDKBr7WC"
      },
      "execution_count": null,
      "outputs": []
    }
  ],
  "metadata": {
    "colab": {
      "provenance": [],
      "include_colab_link": true
    },
    "kernelspec": {
      "display_name": "Python 3",
      "name": "python3"
    },
    "language_info": {
      "name": "python"
    }
  },
  "nbformat": 4,
  "nbformat_minor": 0
}