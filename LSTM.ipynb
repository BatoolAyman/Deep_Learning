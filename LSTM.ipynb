{
  "nbformat": 4,
  "nbformat_minor": 0,
  "metadata": {
    "colab": {
      "provenance": [],
      "authorship_tag": "ABX9TyPJrGj9FPCXL8xPl64zmC72",
      "include_colab_link": true
    },
    "kernelspec": {
      "name": "python3",
      "display_name": "Python 3"
    },
    "language_info": {
      "name": "python"
    }
  },
  "cells": [
    {
      "cell_type": "markdown",
      "metadata": {
        "id": "view-in-github",
        "colab_type": "text"
      },
      "source": [
        "<a href=\"https://colab.research.google.com/github/BatoolAyman/Deep_Learning/blob/main/LSTM.ipynb\" target=\"_parent\"><img src=\"https://colab.research.google.com/assets/colab-badge.svg\" alt=\"Open In Colab\"/></a>"
      ]
    },
    {
      "cell_type": "code",
      "execution_count": null,
      "metadata": {
        "colab": {
          "base_uri": "https://localhost:8080/"
        },
        "id": "gWtUPwEcgyZ0",
        "outputId": "8970bab7-68f0-446a-8da3-008b78816718"
      },
      "outputs": [
        {
          "output_type": "stream",
          "name": "stdout",
          "text": [
            "Time Step t = 1, Input x_1 = 1\n",
            "  Forget gate (f_t): 0.622\n",
            "  Input gate (i_t): 0.646\n",
            "  Candidate cell state (C_tilde_t): 0.604\n",
            "  Cell state (C_t): 0.390\n",
            "  Output gate (o_t): 0.690\n",
            "  Hidden state (h_t): 0.256\n",
            "\n",
            "Time Step t = 2, Input x_2 = 2\n",
            "  Forget gate (f_t): 0.736\n",
            "  Input gate (i_t): 0.778\n",
            "  Candidate cell state (C_tilde_t): 0.901\n",
            "  Cell state (C_t): 0.988\n",
            "  Output gate (o_t): 0.846\n",
            "  Hidden state (h_t): 0.640\n",
            "\n",
            "Time Step t = 3, Input x_3 = 3\n",
            "  Forget gate (f_t): 0.827\n",
            "  Input gate (i_t): 0.873\n",
            "  Candidate cell state (C_tilde_t): 0.980\n",
            "  Cell state (C_t): 1.672\n",
            "  Output gate (o_t): 0.934\n",
            "  Hidden state (h_t): 0.871\n",
            "\n",
            "Time Step t = 4, Predict x_4\n",
            "  Forget gate (f_t): 0.890\n",
            "  Input gate (i_t): 0.929\n",
            "  Candidate cell state (C_tilde_t): 0.996\n",
            "  Cell state (C_t): 2.413\n",
            "  Output gate (o_t): 0.972\n",
            "  Hidden state (h_t): 0.957\n",
            "\n",
            "Predicted next value: 3.826\n"
          ]
        }
      ],
      "source": [
        "import numpy as np\n",
        "\n",
        "# Sigmoid activation function\n",
        "def sigmoid(x):\n",
        "    return 1 / (1 + np.exp(-x))\n",
        "\n",
        "# Hyperbolic tangent activation function\n",
        "def tanh(x):\n",
        "    return np.tanh(x)\n",
        "\n",
        "# Initialize LSTM parameters\n",
        "W_f, W_hf, b_f = 0.5, 0.1, 0  # Forget gate parameters\n",
        "W_i, W_hi, b_i = 0.6, 0.2, 0  # Input gate parameters\n",
        "W_c, W_hc, b_c = 0.7, 0.3, 0  # Candidate cell state parameters\n",
        "W_o, W_ho, b_o = 0.8, 0.4, 0  # Output gate parameters\n",
        "\n",
        "# Linear transformation parameters for prediction\n",
        "W_y, b_y = 4, 0\n",
        "\n",
        "# Initialize hidden state and cell state\n",
        "h_prev, C_prev = 0, 0\n",
        "\n",
        "# Input sequence\n",
        "X = [1, 2, 3]\n",
        "\n",
        "# LSTM computation for each time step\n",
        "for t in range(len(X) + 1):\n",
        "    if t < len(X):\n",
        "        x_t = X[t]\n",
        "    else:\n",
        "        x_t = 4  # Predict the next value after the sequence\n",
        "\n",
        "    # Forget gate\n",
        "    f_t = sigmoid(W_f * x_t + W_hf * h_prev + b_f)\n",
        "\n",
        "    # Input gate\n",
        "    i_t = sigmoid(W_i * x_t + W_hi * h_prev + b_i)\n",
        "\n",
        "    # Candidate cell state\n",
        "    C_tilde_t = tanh(W_c * x_t + W_hc * h_prev + b_c)\n",
        "\n",
        "    # Cell state update\n",
        "    C_t = f_t * C_prev + i_t * C_tilde_t\n",
        "\n",
        "    # Output gate\n",
        "    o_t = sigmoid(W_o * x_t + W_ho * h_prev + b_o)\n",
        "\n",
        "    # Hidden state update\n",
        "    h_t = o_t * tanh(C_t)\n",
        "\n",
        "    # Update previous hidden state and cell state\n",
        "    h_prev, C_prev = h_t, C_t\n",
        "\n",
        "    # Print intermediate results\n",
        "    if t < len(X):\n",
        "        print(f\"Time Step t = {t + 1}, Input x_{t + 1} = {x_t}\")\n",
        "    else:\n",
        "        print(f\"Time Step t = {t + 1}, Predict x_{t + 1}\")\n",
        "\n",
        "    print(f\"  Forget gate (f_t): {f_t:.3f}\")\n",
        "    print(f\"  Input gate (i_t): {i_t:.3f}\")\n",
        "    print(f\"  Candidate cell state (C_tilde_t): {C_tilde_t:.3f}\")\n",
        "    print(f\"  Cell state (C_t): {C_t:.3f}\")\n",
        "    print(f\"  Output gate (o_t): {o_t:.3f}\")\n",
        "    print(f\"  Hidden state (h_t): {h_t:.3f}\")\n",
        "    print()\n",
        "\n",
        "# Predict the next value\n",
        "y_pred = W_y * h_t + b_y\n",
        "print(f\"Predicted next value: {y_pred:.3f}\")"
      ]
    },
    {
      "cell_type": "code",
      "source": [],
      "metadata": {
        "id": "Ohbt-FLmhXQu"
      },
      "execution_count": null,
      "outputs": []
    }
  ]
}