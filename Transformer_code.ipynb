{
  "nbformat": 4,
  "nbformat_minor": 0,
  "metadata": {
    "colab": {
      "provenance": [],
      "authorship_tag": "ABX9TyMvwtBzmzPwHGE23fi7nsYY",
      "include_colab_link": true
    },
    "kernelspec": {
      "name": "python3",
      "display_name": "Python 3"
    },
    "language_info": {
      "name": "python"
    }
  },
  "cells": [
    {
      "cell_type": "markdown",
      "metadata": {
        "id": "view-in-github",
        "colab_type": "text"
      },
      "source": [
        "<a href=\"https://colab.research.google.com/github/BatoolAyman/Deep_Learning/blob/main/Transformer_code.ipynb\" target=\"_parent\"><img src=\"https://colab.research.google.com/assets/colab-badge.svg\" alt=\"Open In Colab\"/></a>"
      ]
    },
    {
      "cell_type": "code",
      "execution_count": 1,
      "metadata": {
        "id": "OQvUEdJMENRr"
      },
      "outputs": [],
      "source": [
        "import numpy as np\n",
        "\n",
        "# Step 1: Input Embedding\n",
        "# Input sentence: \"I love Tennis\"\n",
        "X = np.array([\n",
        "    [1, 0, 0, 0],  # I\n",
        "    [0, 1, 0, 0],  # love\n",
        "    [0, 0, 1, 0]   # Tennis\n",
        "])\n",
        "\n",
        "# Step 2: Multi-Head Attention\n",
        "# Assume h = 2 heads, d_k = d_model / h = 4 / 2 = 2\n",
        "d_model = 4\n",
        "h = 2\n",
        "d_k = d_model // h\n",
        "\n",
        "# Define weight matrices for Head 1 and Head 2\n",
        "# Head 1 weights\n",
        "W_Q1 = np.array([\n",
        "    [1, 0],\n",
        "    [0, 1],\n",
        "    [0, 0],\n",
        "    [0, 0]\n",
        "])\n",
        "W_K1 = np.array([\n",
        "    [0, 0],\n",
        "    [0, 0],\n",
        "    [1, 0],\n",
        "    [0, 1]\n",
        "])\n",
        "W_V1 = np.array([\n",
        "    [1, 0],\n",
        "    [0, 1],\n",
        "    [0, 0],\n",
        "    [0, 0]\n",
        "])\n",
        "\n",
        "# Head 2 weights\n",
        "W_Q2 = np.array([\n",
        "    [0, 1],\n",
        "    [1, 0],\n",
        "    [0, 0],\n",
        "    [0, 0]\n",
        "])\n",
        "W_K2 = np.array([\n",
        "    [0, 0],\n",
        "    [0, 0],\n",
        "    [0, 1],\n",
        "    [1, 0]\n",
        "])\n",
        "W_V2 = np.array([\n",
        "    [0, 1],\n",
        "    [1, 0],\n",
        "    [0, 0],\n",
        "    [0, 0]\n",
        "])\n",
        "\n",
        "# Compute Q, K, V for Head 1\n",
        "Q1 = X @ W_Q1\n",
        "K1 = X @ W_K1\n",
        "V1 = X @ W_V1\n",
        "\n",
        "# Compute Q, K, V for Head 2\n",
        "Q2 = X @ W_Q2\n",
        "K2 = X @ W_K2\n",
        "V2 = X @ W_V2"
      ]
    },
    {
      "cell_type": "code",
      "source": [
        "# Step 3: Compute Attention Scores\n",
        "def softmax(x):\n",
        "    exp_x = np.exp(x - np.max(x, axis=-1, keepdims=True))  # Numerical stability\n",
        "    return exp_x / np.sum(exp_x, axis=-1, keepdims=True)\n",
        "\n",
        "def attention(Q, K, V):\n",
        "    d_k = Q.shape[-1]\n",
        "    scores = (Q @ K.T) / np.sqrt(d_k)  # Scaled dot-product attention\n",
        "    attention_weights = softmax(scores)  # Apply softmax\n",
        "    output = attention_weights @ V  # Weighted sum of values\n",
        "    return output\n",
        "\n",
        "# Compute attention for Head 1\n",
        "attention_output_head1 = attention(Q1, K1, V1)\n",
        "\n",
        "# Compute attention for Head 2\n",
        "attention_output_head2 = attention(Q2, K2, V2)"
      ],
      "metadata": {
        "id": "RmdRnvoAEOvI"
      },
      "execution_count": 2,
      "outputs": []
    },
    {
      "cell_type": "code",
      "source": [
        "# Step 4: Concatenate Heads\n",
        "multihead_output = np.concatenate((attention_output_head1, attention_output_head2), axis=-1)\n",
        "\n",
        "# Step 5: Print Results\n",
        "print(\"Input Embedding (X):\")\n",
        "print(X)\n",
        "print(\"\\nHead 1 - Attention Output:\")\n",
        "print(attention_output_head1)\n",
        "print(\"\\nHead 2 - Attention Output:\")\n",
        "print(attention_output_head2)\n",
        "print(\"\\nMulti-Head Attention Output (Concatenated):\")\n",
        "print(multihead_output)"
      ],
      "metadata": {
        "colab": {
          "base_uri": "https://localhost:8080/"
        },
        "id": "zn-XoTl0EOxz",
        "outputId": "dae7c514-b349-42a3-c39f-b6fd5ee3a21c"
      },
      "execution_count": 3,
      "outputs": [
        {
          "output_type": "stream",
          "name": "stdout",
          "text": [
            "Input Embedding (X):\n",
            "[[1 0 0 0]\n",
            " [0 1 0 0]\n",
            " [0 0 1 0]]\n",
            "\n",
            "Head 1 - Attention Output:\n",
            "[[0.24825508 0.24825508]\n",
            " [0.33333333 0.33333333]\n",
            " [0.33333333 0.33333333]]\n",
            "\n",
            "Head 2 - Attention Output:\n",
            "[[0.24825508 0.24825508]\n",
            " [0.33333333 0.33333333]\n",
            " [0.33333333 0.33333333]]\n",
            "\n",
            "Multi-Head Attention Output (Concatenated):\n",
            "[[0.24825508 0.24825508 0.24825508 0.24825508]\n",
            " [0.33333333 0.33333333 0.33333333 0.33333333]\n",
            " [0.33333333 0.33333333 0.33333333 0.33333333]]\n"
          ]
        }
      ]
    },
    {
      "cell_type": "code",
      "source": [],
      "metadata": {
        "id": "EoDOsA7WEO0K"
      },
      "execution_count": null,
      "outputs": []
    },
    {
      "cell_type": "code",
      "source": [],
      "metadata": {
        "id": "N0m0CMf3EO2f"
      },
      "execution_count": null,
      "outputs": []
    },
    {
      "cell_type": "code",
      "source": [],
      "metadata": {
        "id": "b7odNIsyEO53"
      },
      "execution_count": null,
      "outputs": []
    },
    {
      "cell_type": "code",
      "source": [],
      "metadata": {
        "id": "LKd81jCzEO-q"
      },
      "execution_count": null,
      "outputs": []
    },
    {
      "cell_type": "code",
      "source": [],
      "metadata": {
        "id": "8EdLE_XtEO_x"
      },
      "execution_count": null,
      "outputs": []
    },
    {
      "cell_type": "code",
      "source": [],
      "metadata": {
        "id": "902ARbw4EPBs"
      },
      "execution_count": null,
      "outputs": []
    }
  ]
}